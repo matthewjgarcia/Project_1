{
 "cells": [
  {
   "cell_type": "code",
   "execution_count": 2,
   "metadata": {},
   "outputs": [
    {
     "data": {
      "text/plain": [
       "Index(['_STATE', 'FMONTH', 'IDATE', 'IMONTH', 'IDAY', 'IYEAR', 'DISPCODE',\n",
       "       'SEQNO', '_PSU', 'CTELENM1',\n",
       "       ...\n",
       "       '_RFPSA23', '_CLNSCPY', '_SGMSCPY', '_SGMS10Y', '_RFBLDS4', '_STOLDNA',\n",
       "       '_VIRCOLN', '_SBONTIM', '_CRCREC1', '_AIDTST4'],\n",
       "      dtype='object', length=279)"
      ]
     },
     "execution_count": 2,
     "metadata": {},
     "output_type": "execute_result"
    }
   ],
   "source": [
    "import pandas as pd\n",
    "from pathlib import Path\n",
    "import matplotlib.pyplot as plt\n",
    "from scipy import stats\n",
    "from scipy.stats import linregress\n",
    "from scipy.stats import spearmanr\n",
    "from scipy.stats immport pearsonr\n",
    "data = Path(\"brfss2020.csv\")\n",
    "data_df = pd.read_csv(data)\n",
    "data_df.columns"
   ]
  },
  {
   "cell_type": "markdown",
   "metadata": {},
   "source": [
    "Null Hypothesis: There is no significant correlation between the average cups of coffee consumed and the average time of sleep in different states.\n",
    "\n",
    "Alternate Hypothesis: There is a significant correlation between the average cups of coffee consumed and the average time of sleep in different states."
   ]
  },
  {
   "cell_type": "markdown",
   "metadata": {},
   "source": [
    "Time to clean the data. First we are going to set up the columns we want to keep for the analysis"
   ]
  },
  {
   "cell_type": "code",
   "execution_count": 3,
   "metadata": {},
   "outputs": [],
   "source": [
    "columns_to_keep = [\"_STATE\", \"IDATE\", \"IYEAR\", \"SLEPTIM1\"]\n",
    "sleep_df = data_df.filter(items=columns_to_keep)"
   ]
  },
  {
   "cell_type": "markdown",
   "metadata": {},
   "source": [
    "Next we are going to make a dataframe for each stat in the top 10 most coffee cups per day.\n",
    "Top 10 states with most coffee cups per day\n",
    "1. Michigan\n",
    "2. Delaware\n",
    "3. West Virginia\n",
    "4. Ohio\n",
    "5. Nebraska\n",
    "6. Arkansas\n",
    "7. South Carolina\n",
    "8. Kansas\n",
    "9. Maine\n",
    "10. Louisiana"
   ]
  },
  {
   "cell_type": "code",
   "execution_count": 4,
   "metadata": {},
   "outputs": [],
   "source": [
    "michigan_sleep_df = sleep_df.loc[sleep_df[\"_STATE\"] == 26]\n",
    "delaware_sleep_df = sleep_df.loc[sleep_df[\"_STATE\"] == 10]\n",
    "wV_sleep_df = sleep_df.loc[sleep_df[\"_STATE\"] == 54]\n",
    "ohio_sleep_df = sleep_df.loc[sleep_df[\"_STATE\"] == 39]\n",
    "nebraska_sleep_df = sleep_df.loc[sleep_df[\"_STATE\"] == 31]\n",
    "ak_sleep_df = sleep_df.loc[sleep_df[\"_STATE\"] == 5]\n",
    "sc_sleep_df = sleep_df.loc[sleep_df[\"_STATE\"] == 45]\n",
    "ka_sleep_df = sleep_df.loc[sleep_df[\"_STATE\"] == 20]\n",
    "me_sleep_df = sleep_df.loc[sleep_df[\"_STATE\"] == 23]\n",
    "la_sleep_df = sleep_df.loc[sleep_df[\"_STATE\"] == 22]"
   ]
  },
  {
   "cell_type": "markdown",
   "metadata": {},
   "source": [
    "Now we're going to repeat the steps, but for the least amount of coffee per day.\n",
    "Top 10 states with least coffee cups per day\n",
    "1. Utah\n",
    "2. Arizona\n",
    "3. Minnesota\n",
    "4. New Jersey\n",
    "5. Massachusetts\n",
    "6. Wisconsin\n",
    "7. Hawaii\n",
    "8. Georgia\n",
    "9. Maryland\n",
    "10. Mississippi"
   ]
  },
  {
   "cell_type": "code",
   "execution_count": 5,
   "metadata": {},
   "outputs": [],
   "source": [
    "utah_sleep_df = sleep_df.loc[sleep_df[\"_STATE\"] == 49]\n",
    "az_sleep_df = sleep_df.loc[sleep_df[\"_STATE\"] == 4]\n",
    "minn_sleep_df = sleep_df.loc[sleep_df[\"_STATE\"] == 27]\n",
    "nJ_sleep_df = sleep_df.loc[sleep_df[\"_STATE\"] == 34]\n",
    "mass_sleep_df = sleep_df.loc[sleep_df[\"_STATE\"] == 25]\n",
    "wis_sleep_df = sleep_df.loc[sleep_df[\"_STATE\"] == 55]\n",
    "hi_sleep_df = sleep_df.loc[sleep_df[\"_STATE\"] == 15]\n",
    "geo_sleep_df = sleep_df.loc[sleep_df[\"_STATE\"] == 13]\n",
    "md_sleep_df = sleep_df.loc[sleep_df[\"_STATE\"] == 24]\n",
    "miss_sleep_df = sleep_df.loc[sleep_df[\"_STATE\"] == 28]"
   ]
  },
  {
   "cell_type": "code",
   "execution_count": 6,
   "metadata": {},
   "outputs": [],
   "source": [
    "#Function to find average sleep\n",
    "def mean_sleep(df, column):\n",
    "    #Calculate mean for a given column, in this case sleep time\n",
    "    #parameters: - df: the input dataframe\n",
    "    #column: the name of the column we want the mean for\n",
    "    column_mean = df[column].mean()\n",
    "    return column_mean"
   ]
  },
  {
   "cell_type": "code",
   "execution_count": 7,
   "metadata": {},
   "outputs": [],
   "source": [
    "#Top 10\n",
    "mich_avg_sleep = mean_sleep(michigan_sleep_df, 'SLEPTIM1')\n",
    "del_avg_sleep = mean_sleep(delaware_sleep_df, 'SLEPTIM1')\n",
    "wV_avg_sleep = mean_sleep(wV_sleep_df, 'SLEPTIM1')\n",
    "ohio_avg_sleep = mean_sleep(ohio_sleep_df, 'SLEPTIM1')\n",
    "ne_avg_sleep = mean_sleep(nebraska_sleep_df, 'SLEPTIM1')\n",
    "ak_avg_sleep = mean_sleep(ak_sleep_df, 'SLEPTIM1')\n",
    "sc_avg_sleep = mean_sleep(sc_sleep_df, 'SLEPTIM1')\n",
    "ka_avg_sleep = mean_sleep(ka_sleep_df, 'SLEPTIM1')\n",
    "me_avg_sleep = mean_sleep(me_sleep_df, 'SLEPTIM1')\n",
    "la_avg_sleep = mean_sleep(la_sleep_df, 'SLEPTIM1')\n",
    "\n",
    "#Bottom 10\n",
    "utah_avg_sleep = mean_sleep(utah_sleep_df, 'SLEPTIM1')\n",
    "az_avg_sleep = mean_sleep(az_sleep_df, 'SLEPTIM1')\n",
    "minn_avg_sleep = mean_sleep(minn_sleep_df, 'SLEPTIM1')\n",
    "nJ_avg_sleep = mean_sleep(nJ_sleep_df, 'SLEPTIM1')\n",
    "mass_avg_sleep = mean_sleep(mass_sleep_df, 'SLEPTIM1')\n",
    "wis_avg_sleep = mean_sleep(wis_sleep_df, 'SLEPTIM1')\n",
    "hi_avg_sleep = mean_sleep(hi_sleep_df, 'SLEPTIM1')\n",
    "geo_avg_sleep = mean_sleep(geo_sleep_df, 'SLEPTIM1')\n",
    "md_avg_sleep = mean_sleep(md_sleep_df, 'SLEPTIM1')\n",
    "miss_avg_sleep = mean_sleep(miss_sleep_df, 'SLEPTIM1')"
   ]
  },
  {
   "cell_type": "code",
   "execution_count": 8,
   "metadata": {},
   "outputs": [
    {
     "data": {
      "text/plain": [
       "count    169515.000000\n",
       "mean          7.899590\n",
       "std           7.787767\n",
       "min           1.000000\n",
       "25%           6.000000\n",
       "50%           7.000000\n",
       "75%           8.000000\n",
       "max          99.000000\n",
       "Name: Sleep Time, dtype: float64"
      ]
     },
     "execution_count": 8,
     "metadata": {},
     "output_type": "execute_result"
    }
   ],
   "source": [
    "\n",
    "coffee_data = data = {\n",
    "    'State': [\n",
    "        'Michigan', 'Delaware', 'West Virginia', 'Ohio', 'Nebraska', 'Arkansas',\n",
    "        'South Carolina', 'Kansas', 'Maine', 'Louisiana', 'Utah', 'Arizona',\n",
    "        'Minnesota', 'New Jersey', 'Massachusetts', 'Wisconsin', 'Hawaii',\n",
    "        'Georgia', 'Maryland', 'Mississippi'\n",
    "    ],\n",
    "    'Cups of Coffee': [\n",
    "        2.52, 2.44, 2.35, 2.16, 2.13, 2.12, 2.12, 2.07, 2.05, 2.03,\n",
    "        1.29, 1.30, 1.32, 1.45, 1.51, 1.52, 1.52, 1.54, 1.57, 1.58\n",
    "    ]\n",
    "}\n",
    "coffee_df = pd.DataFrame(coffee_data)\n",
    "state_mapping = {26: 'Michigan', 10: 'Delaware', 54: 'West Virginia', 39: 'Ohio', 31: 'Nebraska', 5: 'Arkansas', 45: 'South Carolina', 20: 'Kansas', 23: 'Maine', 22: 'Louisiana', \n",
    "                49: 'Utah', 4: 'Arizona', 27: 'Minnesota', 34: 'New Jersey', 25: \"Massachusetts\", 55: \"Wisconsin\", 15: 'Hawaii', 13: \"Georgia\", 24: \"Maryland\", 28: \"Mississippi\"}\n",
    "dfs = [michigan_sleep_df, delaware_sleep_df, wV_sleep_df, ohio_sleep_df, nebraska_sleep_df, ak_sleep_df, sc_sleep_df, ka_sleep_df, la_sleep_df, \n",
    "       utah_sleep_df, az_sleep_df, minn_sleep_df, nJ_sleep_df, mass_sleep_df, wis_sleep_df, hi_sleep_df, geo_sleep_df, md_sleep_df, miss_sleep_df]\n",
    "combined_df = pd.concat(dfs, ignore_index=True)\n",
    "combined_df['_STATE'] = combined_df['_STATE'].replace(state_mapping)\n",
    "combined_df = combined_df.rename(columns={'_STATE': 'State', 'IDATE':'Date','IYEAR':'Year', 'SLEPTIM1':'Sleep Time'})\n",
    "merged_df = pd.merge(combined_df, coffee_df, on='State')\n",
    "merged_df[\"Sleep Time\"].describe()\n",
    "#Noticing potential outliers when looking at the data, so going to fix\n",
    "\n",
    "\n"
   ]
  },
  {
   "cell_type": "code",
   "execution_count": 9,
   "metadata": {},
   "outputs": [
    {
     "data": {
      "text/plain": [
       "count    165038.000000\n",
       "mean          7.046553\n",
       "std           1.250172\n",
       "min           3.000000\n",
       "25%           6.000000\n",
       "50%           7.000000\n",
       "75%           8.000000\n",
       "max          11.000000\n",
       "Name: Sleep Time, dtype: float64"
      ]
     },
     "execution_count": 9,
     "metadata": {},
     "output_type": "execute_result"
    }
   ],
   "source": [
    "#Setting up test for outliers\n",
    "q1 = merged_df[\"Sleep Time\"].quantile(0.25)\n",
    "q3 = merged_df[\"Sleep Time\"].quantile(0.75)\n",
    "iqr = q3 - q1\n",
    "lower_bound = q1 - 1.5 * iqr\n",
    "upper_bound = q3 + 1.5 * iqr\n",
    "#getting rid of outliers\n",
    "merged_df = merged_df[merged_df[\"Sleep Time\"].between(lower_bound, upper_bound)]\n",
    "merged_df[\"Sleep Time\"].describe()\n",
    "#There that looks better"
   ]
  },
  {
   "cell_type": "code",
   "execution_count": 11,
   "metadata": {},
   "outputs": [
    {
     "name": "stdout",
     "output_type": "stream",
     "text": [
      "T Statistic: 44.43784243695134\n",
      "P-value: 7.424251262648384e-34\n",
      "The correlation is statistically significant.\n",
      "The r-value is: 0.14371332329726605\n"
     ]
    },
    {
     "data": {
      "image/png": "[encoded data removed]",
      "text/plain": [
       "<Figure size 640x480 with 1 Axes>"
      ]
     },
     "metadata": {},
     "output_type": "display_data"
    }
   ],
   "source": [
    "#Making a df of mean sleep time with coffee cups merged\n",
    "means = [mich_avg_sleep, del_avg_sleep, wV_avg_sleep, ohio_avg_sleep, ne_avg_sleep,ak_avg_sleep, sc_avg_sleep, ak_avg_sleep, me_avg_sleep, la_avg_sleep,\n",
    "         utah_avg_sleep, az_avg_sleep,minn_avg_sleep, nJ_avg_sleep, mass_avg_sleep, wis_avg_sleep, hi_avg_sleep, geo_avg_sleep, md_avg_sleep, miss_avg_sleep]\n",
    "coffee_df[\"Average Sleep\"] = means\n",
    "#Doing a T test against the coffee data because I want to compare the means\n",
    "#of these two groups and check for significance\n",
    "t_statistic, p_value = stats.ttest_ind(coffee_df[\"Average Sleep\"], coffee_df[\"Cups of Coffee\"], equal_var=False)\n",
    "print(f\"T Statistic: {t_statistic}\")\n",
    "print(f\"P-value: {p_value}\")\n",
    "alpha = 0.05\n",
    "if p_value < alpha:\n",
    "    print(\"The correlation is statistically significant.\")\n",
    "else:\n",
    "    print(\"The correlation is not statistically significant.\")\n",
    "\n",
    "#Plotting cups of coffee against average sleep\n",
    "(slope, intercept, rvalue, pvalue, stderr) = linregress(coffee_df[\"Cups of Coffee\"], coffee_df[\"Average Sleep\"])\n",
    "regress_vals = coffee_df[\"Cups of Coffee\"] * slope + intercept\n",
    "line_eq = \"y = \" + str(round(slope, 2)) + \"x + \" + str(round(intercept, 2))\n",
    "print(f\"The r-value is: {rvalue}\")\n",
    "plt.scatter(coffee_df[\"Cups of Coffee\"], coffee_df[\"Average Sleep\"])\n",
    "plt.plot(coffee_df[\"Cups of Coffee\"], regress_vals, \"-r\")\n",
    "plt.annotate(line_eq,(1.25,8.75),fontsize=15,color=\"red\")\n",
    "plt.title(\"Average Sleep vs Average Cups of Coffee\")\n",
    "plt.xlabel(\"Cups of Coffee per Day\")\n",
    "plt.ylabel(\"Average Hours of Sleep\")\n",
    "plt.show()"
   ]
  },
  {
   "cell_type": "markdown",
   "metadata": {},
   "source": [
    "The p value is very small and suggests strong evidence against the null hypothesis. This means the observed result is highly unlikely to occur by chance, which supports the rejection of the null hypothesis. We can use the r value to measure the strength and direction of the linear relationship between the averages cups of coffee and average time of sleep. The r value of about 0.123467 suggests a very weak positive linear correlation. The correlation is positive, but the strength of the correlation is very small.\n",
    "\n",
    "Overall the t statistic and p value together suggest that the result is significant, that is unlikely due to random chance, and the r value suggest a positive, but very weak trend in the data. "
   ]
  },
  {
   "cell_type": "code",
   "execution_count": 12,
   "metadata": {},
   "outputs": [
    {
     "data": {
      "image/png": "[encoded data removed]",
      "text/plain": [
       "<Figure size 640x480 with 1 Axes>"
      ]
     },
     "metadata": {},
     "output_type": "display_data"
    },
    {
     "name": "stdout",
     "output_type": "stream",
     "text": [
      "[2.52 2.44 2.35 2.16 2.13 2.12 2.07 2.03 1.29 1.3  1.32 1.45 1.51 1.52\n",
      " 1.54 1.57 1.58]\n"
     ]
    }
   ],
   "source": [
    "plt.scatter(merged_df[\"Sleep Time\"], merged_df[\"Cups of Coffee\"])\n",
    "plt.xlabel(\"Time Spent Sleeping\")\n",
    "plt.ylabel(\"Average Cups of Coffee\")\n",
    "plt.title(\"Actual Sleep Time vs Cups of Coffee per Day\")\n",
    "plt.show()\n",
    "print(merged_df[\"Cups of Coffee\"].unique())"
   ]
  },
  {
   "cell_type": "code",
   "execution_count": 13,
   "metadata": {},
   "outputs": [
    {
     "ename": "NameError",
     "evalue": "name 'pearsonr' is not defined",
     "output_type": "error",
     "traceback": [
      "\u001b[0;31m---------------------------------------------------------------------------\u001b[0m",
      "\u001b[0;31mNameError\u001b[0m                                 Traceback (most recent call last)",
      "\u001b[1;32m/Users/mattgarcia/Desktop/Project_1/matt's_analysis/analysis.ipynb Cell 16\u001b[0m line \u001b[0;36m3\n\u001b[1;32m      <a href='vscode-notebook-cell:/Users/mattgarcia/Desktop/Project_1/matt%27s_analysis/analysis.ipynb#X43sZmlsZQ%3D%3D?line=0'>1</a>\u001b[0m \u001b[39m#Calculating correlation coefficient and p-value using pearsonr function\u001b[39;00m\n\u001b[0;32m----> <a href='vscode-notebook-cell:/Users/mattgarcia/Desktop/Project_1/matt%27s_analysis/analysis.ipynb#X43sZmlsZQ%3D%3D?line=2'>3</a>\u001b[0m correlation_coefficient, p_val \u001b[39m=\u001b[39m pearsonr(merged_df[\u001b[39m\"\u001b[39m\u001b[39mSleep Time\u001b[39m\u001b[39m\"\u001b[39m], merged_df[\u001b[39m\"\u001b[39m\u001b[39mCups of Coffee\u001b[39m\u001b[39m\"\u001b[39m])\n\u001b[1;32m      <a href='vscode-notebook-cell:/Users/mattgarcia/Desktop/Project_1/matt%27s_analysis/analysis.ipynb#X43sZmlsZQ%3D%3D?line=3'>4</a>\u001b[0m \u001b[39mprint\u001b[39m(\u001b[39mf\u001b[39m\u001b[39m\"\u001b[39m\u001b[39mPearson Correlation Coefficient: \u001b[39m\u001b[39m{\u001b[39;00mcorrelation_coefficient\u001b[39m}\u001b[39;00m\u001b[39m\"\u001b[39m)\n\u001b[1;32m      <a href='vscode-notebook-cell:/Users/mattgarcia/Desktop/Project_1/matt%27s_analysis/analysis.ipynb#X43sZmlsZQ%3D%3D?line=4'>5</a>\u001b[0m \u001b[39mprint\u001b[39m(\u001b[39mf\u001b[39m\u001b[39m\"\u001b[39m\u001b[39mP-value: \u001b[39m\u001b[39m{\u001b[39;00mp_val\u001b[39m}\u001b[39;00m\u001b[39m\"\u001b[39m)\n",
      "\u001b[0;31mNameError\u001b[0m: name 'pearsonr' is not defined"
     ]
    }
   ],
   "source": [
    "#Calculating correlation coefficient and p-value using pearsonr function\n",
    "\n",
    "correlation_coefficient, p_val = pearsonr(merged_df[\"Sleep Time\"], merged_df[\"Cups of Coffee\"])\n",
    "print(f\"Pearson Correlation Coefficient: {correlation_coefficient}\")\n",
    "print(f\"P-value: {p_val}\")\n",
    "alpha = 0.05\n",
    "if p_val < alpha:\n",
    "    print(\"The correlation is statistically significant.\")\n",
    "else:\n",
    "    print(\"The correlation is not statistically significant.\")\n",
    "plt.ylim(0, 40000)\n",
    "plt.xlim(0,12)\n",
    "plt.hist(merged_df[\"Sleep Time\"], alpha=.5, label=\"Average Sleep\", color='purple')\n",
    "plt.hist(merged_df[\"Cups of Coffee\"], alpha=.5, label=\"Cups of Coffee\", color= 'green')\n",
    "plt.xlabel(\"Hours of Sleep/ Cups\")\n",
    "plt.ylabel(\"Frequency\")\n",
    "plt.legend()\n",
    "plt.show()\n",
    "#Calculating correlation coefficient and p value using pearsonr function"
   ]
  },
  {
   "cell_type": "markdown",
   "metadata": {},
   "source": [
    "While the P-value indicates a statistically significant correlation, the actual correlation is very weak, since our correlation coefficient is close to 0. This suggests that there is evidence of a relationship between sleep time and cups of coffee, however the strength of the relationship is not practically significant"
   ]
  },
  {
   "cell_type": "code",
   "execution_count": null,
   "metadata": {},
   "outputs": [
    {
     "ename": "NameError",
     "evalue": "name 'spearmanr' is not defined",
     "output_type": "error",
     "traceback": [
      "\u001b[0;31m---------------------------------------------------------------------------\u001b[0m",
      "\u001b[0;31mNameError\u001b[0m                                 Traceback (most recent call last)",
      "\u001b[1;32m/Users/mattgarcia/Desktop/Project_1/matt's_analysis/analysis.ipynb Cell 18\u001b[0m line \u001b[0;36m1\n\u001b[0;32m----> <a href='vscode-notebook-cell:/Users/mattgarcia/Desktop/Project_1/matt%27s_analysis/analysis.ipynb#X66sZmlsZQ%3D%3D?line=0'>1</a>\u001b[0m spear_man_co \u001b[39m=\u001b[39m spearmanr(merged_df[\u001b[39m\"\u001b[39m\u001b[39mSleep Time\u001b[39m\u001b[39m\"\u001b[39m], merged_df[\u001b[39m\"\u001b[39m\u001b[39mCups of Coffee\u001b[39m\u001b[39m\"\u001b[39m])\u001b[39m.\u001b[39mcorrelation\n\u001b[1;32m      <a href='vscode-notebook-cell:/Users/mattgarcia/Desktop/Project_1/matt%27s_analysis/analysis.ipynb#X66sZmlsZQ%3D%3D?line=1'>2</a>\u001b[0m spear_man_co\n\u001b[1;32m      <a href='vscode-notebook-cell:/Users/mattgarcia/Desktop/Project_1/matt%27s_analysis/analysis.ipynb#X66sZmlsZQ%3D%3D?line=2'>3</a>\u001b[0m \u001b[39mprint\u001b[39m(\u001b[39mlen\u001b[39m(merged_df[\u001b[39m\"\u001b[39m\u001b[39mState\u001b[39m\u001b[39m\"\u001b[39m]))\n",
      "\u001b[0;31mNameError\u001b[0m: name 'spearmanr' is not defined"
     ]
    }
   ],
   "source": [
    "spear_man_co = spearmanr(merged_df[\"Sleep Time\"], merged_df[\"Cups of Coffee\"]).correlation\n",
    "spear_man_co\n",
    "print(len(merged_df[\"State\"]))"
   ]
  },
  {
   "cell_type": "markdown",
   "metadata": {},
   "source": [
    "The spearman rank correlation coefficient measures the strength and direction of the monotonic relationship between two variables. The spearman correlation coefficient suggest a very weak monotonic relationship between sleep time and cups of coffee. The (-) value indicates that as sleep time increases cups of coffee decreases. However, the value is close to zero which means the relationship is very weak"
   ]
  },
  {
   "cell_type": "code",
   "execution_count": null,
   "metadata": {},
   "outputs": [
    {
     "ename": "KeyboardInterrupt",
     "evalue": "",
     "output_type": "error",
     "traceback": [
      "\u001b[0;31m---------------------------------------------------------------------------\u001b[0m",
      "\u001b[0;31mKeyboardInterrupt\u001b[0m                         Traceback (most recent call last)",
      "\u001b[1;32m/Users/mattgarcia/Desktop/Project_1/matt's_analysis/analysis.ipynb Cell 20\u001b[0m line \u001b[0;36m6\n\u001b[1;32m      <a href='vscode-notebook-cell:/Users/mattgarcia/Desktop/Project_1/matt%27s_analysis/analysis.ipynb#Y101sZmlsZQ%3D%3D?line=3'>4</a>\u001b[0m plt\u001b[39m.\u001b[39mxticks(rotation \u001b[39m=\u001b[39m \u001b[39m90\u001b[39m)\n\u001b[1;32m      <a href='vscode-notebook-cell:/Users/mattgarcia/Desktop/Project_1/matt%27s_analysis/analysis.ipynb#Y101sZmlsZQ%3D%3D?line=4'>5</a>\u001b[0m plt\u001b[39m.\u001b[39mbar(merged_df[\u001b[39m\"\u001b[39m\u001b[39mState\u001b[39m\u001b[39m\"\u001b[39m], merged_df[\u001b[39m\"\u001b[39m\u001b[39mSleep Time\u001b[39m\u001b[39m\"\u001b[39m], color \u001b[39m=\u001b[39m \u001b[39m\"\u001b[39m\u001b[39myellow\u001b[39m\u001b[39m\"\u001b[39m, label \u001b[39m=\u001b[39m \u001b[39m\"\u001b[39m\u001b[39mSleep Time\u001b[39m\u001b[39m\"\u001b[39m)\n\u001b[0;32m----> <a href='vscode-notebook-cell:/Users/mattgarcia/Desktop/Project_1/matt%27s_analysis/analysis.ipynb#Y101sZmlsZQ%3D%3D?line=5'>6</a>\u001b[0m plt\u001b[39m.\u001b[39mbar(merged_df[\u001b[39m\"\u001b[39m\u001b[39mState\u001b[39m\u001b[39m\"\u001b[39m], merged_df[\u001b[39m\"\u001b[39m\u001b[39mCups of Coffee\u001b[39m\u001b[39m\"\u001b[39m], color \u001b[39m=\u001b[39m \u001b[39m'\u001b[39m\u001b[39mpurple\u001b[39m\u001b[39m'\u001b[39m, label \u001b[39m=\u001b[39m \u001b[39m\"\u001b[39m\u001b[39mCups of Coffee\u001b[39m\u001b[39m\"\u001b[39m)\n\u001b[1;32m      <a href='vscode-notebook-cell:/Users/mattgarcia/Desktop/Project_1/matt%27s_analysis/analysis.ipynb#Y101sZmlsZQ%3D%3D?line=6'>7</a>\u001b[0m plt\u001b[39m.\u001b[39mlegend()\n\u001b[1;32m      <a href='vscode-notebook-cell:/Users/mattgarcia/Desktop/Project_1/matt%27s_analysis/analysis.ipynb#Y101sZmlsZQ%3D%3D?line=7'>8</a>\u001b[0m plt\u001b[39m.\u001b[39mshow()\n",
      "File \u001b[0;32m~/anaconda3/lib/python3.11/site-packages/matplotlib/pyplot.py:2439\u001b[0m, in \u001b[0;36mbar\u001b[0;34m(x, height, width, bottom, align, data, **kwargs)\u001b[0m\n\u001b[1;32m   2435\u001b[0m \u001b[39m@_copy_docstring_and_deprecators\u001b[39m(Axes\u001b[39m.\u001b[39mbar)\n\u001b[1;32m   2436\u001b[0m \u001b[39mdef\u001b[39;00m \u001b[39mbar\u001b[39m(\n\u001b[1;32m   2437\u001b[0m         x, height, width\u001b[39m=\u001b[39m\u001b[39m0.8\u001b[39m, bottom\u001b[39m=\u001b[39m\u001b[39mNone\u001b[39;00m, \u001b[39m*\u001b[39m, align\u001b[39m=\u001b[39m\u001b[39m'\u001b[39m\u001b[39mcenter\u001b[39m\u001b[39m'\u001b[39m,\n\u001b[1;32m   2438\u001b[0m         data\u001b[39m=\u001b[39m\u001b[39mNone\u001b[39;00m, \u001b[39m*\u001b[39m\u001b[39m*\u001b[39mkwargs):\n\u001b[0;32m-> 2439\u001b[0m     \u001b[39mreturn\u001b[39;00m gca()\u001b[39m.\u001b[39mbar(\n\u001b[1;32m   2440\u001b[0m         x, height, width\u001b[39m=\u001b[39mwidth, bottom\u001b[39m=\u001b[39mbottom, align\u001b[39m=\u001b[39malign,\n\u001b[1;32m   2441\u001b[0m         \u001b[39m*\u001b[39m\u001b[39m*\u001b[39m({\u001b[39m\"\u001b[39m\u001b[39mdata\u001b[39m\u001b[39m\"\u001b[39m: data} \u001b[39mif\u001b[39;00m data \u001b[39mis\u001b[39;00m \u001b[39mnot\u001b[39;00m \u001b[39mNone\u001b[39;00m \u001b[39melse\u001b[39;00m {}), \u001b[39m*\u001b[39m\u001b[39m*\u001b[39mkwargs)\n",
      "File \u001b[0;32m~/anaconda3/lib/python3.11/site-packages/matplotlib/__init__.py:1446\u001b[0m, in \u001b[0;36m_preprocess_data.<locals>.inner\u001b[0;34m(ax, data, *args, **kwargs)\u001b[0m\n\u001b[1;32m   1443\u001b[0m \u001b[39m@functools\u001b[39m\u001b[39m.\u001b[39mwraps(func)\n\u001b[1;32m   1444\u001b[0m \u001b[39mdef\u001b[39;00m \u001b[39minner\u001b[39m(ax, \u001b[39m*\u001b[39margs, data\u001b[39m=\u001b[39m\u001b[39mNone\u001b[39;00m, \u001b[39m*\u001b[39m\u001b[39m*\u001b[39mkwargs):\n\u001b[1;32m   1445\u001b[0m     \u001b[39mif\u001b[39;00m data \u001b[39mis\u001b[39;00m \u001b[39mNone\u001b[39;00m:\n\u001b[0;32m-> 1446\u001b[0m         \u001b[39mreturn\u001b[39;00m func(ax, \u001b[39m*\u001b[39m\u001b[39mmap\u001b[39m(sanitize_sequence, args), \u001b[39m*\u001b[39m\u001b[39m*\u001b[39mkwargs)\n\u001b[1;32m   1448\u001b[0m     bound \u001b[39m=\u001b[39m new_sig\u001b[39m.\u001b[39mbind(ax, \u001b[39m*\u001b[39margs, \u001b[39m*\u001b[39m\u001b[39m*\u001b[39mkwargs)\n\u001b[1;32m   1449\u001b[0m     auto_label \u001b[39m=\u001b[39m (bound\u001b[39m.\u001b[39marguments\u001b[39m.\u001b[39mget(label_namer)\n\u001b[1;32m   1450\u001b[0m                   \u001b[39mor\u001b[39;00m bound\u001b[39m.\u001b[39mkwargs\u001b[39m.\u001b[39mget(label_namer))\n",
      "File \u001b[0;32m~/anaconda3/lib/python3.11/site-packages/matplotlib/axes/_axes.py:2486\u001b[0m, in \u001b[0;36mAxes.bar\u001b[0;34m(self, x, height, width, bottom, align, **kwargs)\u001b[0m\n\u001b[1;32m   2484\u001b[0m     \u001b[39melse\u001b[39;00m:  \u001b[39m# horizontal\u001b[39;00m\n\u001b[1;32m   2485\u001b[0m         r\u001b[39m.\u001b[39msticky_edges\u001b[39m.\u001b[39mx\u001b[39m.\u001b[39mappend(l)\n\u001b[0;32m-> 2486\u001b[0m     \u001b[39mself\u001b[39m\u001b[39m.\u001b[39madd_patch(r)\n\u001b[1;32m   2487\u001b[0m     patches\u001b[39m.\u001b[39mappend(r)\n\u001b[1;32m   2489\u001b[0m \u001b[39mif\u001b[39;00m xerr \u001b[39mis\u001b[39;00m \u001b[39mnot\u001b[39;00m \u001b[39mNone\u001b[39;00m \u001b[39mor\u001b[39;00m yerr \u001b[39mis\u001b[39;00m \u001b[39mnot\u001b[39;00m \u001b[39mNone\u001b[39;00m:\n",
      "File \u001b[0;32m~/anaconda3/lib/python3.11/site-packages/matplotlib/axes/_base.py:2378\u001b[0m, in \u001b[0;36m_AxesBase.add_patch\u001b[0;34m(self, p)\u001b[0m\n\u001b[1;32m   2376\u001b[0m \u001b[39mself\u001b[39m\u001b[39m.\u001b[39m_set_artist_props(p)\n\u001b[1;32m   2377\u001b[0m \u001b[39mif\u001b[39;00m p\u001b[39m.\u001b[39mget_clip_path() \u001b[39mis\u001b[39;00m \u001b[39mNone\u001b[39;00m:\n\u001b[0;32m-> 2378\u001b[0m     p\u001b[39m.\u001b[39mset_clip_path(\u001b[39mself\u001b[39m\u001b[39m.\u001b[39mpatch)\n\u001b[1;32m   2379\u001b[0m \u001b[39mself\u001b[39m\u001b[39m.\u001b[39m_update_patch_limits(p)\n\u001b[1;32m   2380\u001b[0m \u001b[39mself\u001b[39m\u001b[39m.\u001b[39m_children\u001b[39m.\u001b[39mappend(p)\n",
      "File \u001b[0;32m~/anaconda3/lib/python3.11/site-packages/matplotlib/artist.py:809\u001b[0m, in \u001b[0;36mArtist.set_clip_path\u001b[0;34m(self, path, transform)\u001b[0m\n\u001b[1;32m    806\u001b[0m \u001b[39mif\u001b[39;00m transform \u001b[39mis\u001b[39;00m \u001b[39mNone\u001b[39;00m:\n\u001b[1;32m    807\u001b[0m     \u001b[39mif\u001b[39;00m \u001b[39misinstance\u001b[39m(path, Rectangle):\n\u001b[1;32m    808\u001b[0m         \u001b[39mself\u001b[39m\u001b[39m.\u001b[39mclipbox \u001b[39m=\u001b[39m TransformedBbox(Bbox\u001b[39m.\u001b[39munit(),\n\u001b[0;32m--> 809\u001b[0m                                        path\u001b[39m.\u001b[39mget_transform())\n\u001b[1;32m    810\u001b[0m         \u001b[39mself\u001b[39m\u001b[39m.\u001b[39m_clippath \u001b[39m=\u001b[39m \u001b[39mNone\u001b[39;00m\n\u001b[1;32m    811\u001b[0m         success \u001b[39m=\u001b[39m \u001b[39mTrue\u001b[39;00m\n",
      "File \u001b[0;32m~/anaconda3/lib/python3.11/site-packages/matplotlib/patches.py:264\u001b[0m, in \u001b[0;36mPatch.get_transform\u001b[0;34m(self)\u001b[0m\n\u001b[1;32m    262\u001b[0m \u001b[39mdef\u001b[39;00m \u001b[39mget_transform\u001b[39m(\u001b[39mself\u001b[39m):\n\u001b[1;32m    263\u001b[0m \u001b[39m    \u001b[39m\u001b[39m\"\"\"Return the `~.transforms.Transform` applied to the `Patch`.\"\"\"\u001b[39;00m\n\u001b[0;32m--> 264\u001b[0m     \u001b[39mreturn\u001b[39;00m \u001b[39mself\u001b[39m\u001b[39m.\u001b[39mget_patch_transform() \u001b[39m+\u001b[39m artist\u001b[39m.\u001b[39mArtist\u001b[39m.\u001b[39mget_transform(\u001b[39mself\u001b[39m)\n",
      "File \u001b[0;32m~/anaconda3/lib/python3.11/site-packages/matplotlib/patches.py:747\u001b[0m, in \u001b[0;36mRectangle.get_patch_transform\u001b[0;34m(self)\u001b[0m\n\u001b[1;32m    742\u001b[0m \u001b[39mdef\u001b[39;00m \u001b[39mget_patch_transform\u001b[39m(\u001b[39mself\u001b[39m):\n\u001b[1;32m    743\u001b[0m     \u001b[39m# Note: This cannot be called until after this has been added to\u001b[39;00m\n\u001b[1;32m    744\u001b[0m     \u001b[39m# an Axes, otherwise unit conversion will fail. This makes it very\u001b[39;00m\n\u001b[1;32m    745\u001b[0m     \u001b[39m# important to call the accessor method and not directly access the\u001b[39;00m\n\u001b[1;32m    746\u001b[0m     \u001b[39m# transformation member variable.\u001b[39;00m\n\u001b[0;32m--> 747\u001b[0m     bbox \u001b[39m=\u001b[39m \u001b[39mself\u001b[39m\u001b[39m.\u001b[39mget_bbox()\n\u001b[1;32m    748\u001b[0m     \u001b[39mif\u001b[39;00m \u001b[39mself\u001b[39m\u001b[39m.\u001b[39mrotation_point \u001b[39m==\u001b[39m \u001b[39m'\u001b[39m\u001b[39mcenter\u001b[39m\u001b[39m'\u001b[39m:\n\u001b[1;32m    749\u001b[0m         width, height \u001b[39m=\u001b[39m bbox\u001b[39m.\u001b[39mx1 \u001b[39m-\u001b[39m bbox\u001b[39m.\u001b[39mx0, bbox\u001b[39m.\u001b[39my1 \u001b[39m-\u001b[39m bbox\u001b[39m.\u001b[39my0\n",
      "File \u001b[0;32m~/anaconda3/lib/python3.11/site-packages/matplotlib/patches.py:878\u001b[0m, in \u001b[0;36mRectangle.get_bbox\u001b[0;34m(self)\u001b[0m\n\u001b[1;32m    876\u001b[0m \u001b[39mdef\u001b[39;00m \u001b[39mget_bbox\u001b[39m(\u001b[39mself\u001b[39m):\n\u001b[1;32m    877\u001b[0m \u001b[39m    \u001b[39m\u001b[39m\"\"\"Return the `.Bbox`.\"\"\"\u001b[39;00m\n\u001b[0;32m--> 878\u001b[0m     x0, y0, x1, y1 \u001b[39m=\u001b[39m \u001b[39mself\u001b[39m\u001b[39m.\u001b[39m_convert_units()\n\u001b[1;32m    879\u001b[0m     \u001b[39mreturn\u001b[39;00m transforms\u001b[39m.\u001b[39mBbox\u001b[39m.\u001b[39mfrom_extents(x0, y0, x1, y1)\n",
      "File \u001b[0;32m~/anaconda3/lib/python3.11/site-packages/matplotlib/patches.py:739\u001b[0m, in \u001b[0;36mRectangle._convert_units\u001b[0;34m(self)\u001b[0m\n\u001b[1;32m    737\u001b[0m y0 \u001b[39m=\u001b[39m \u001b[39mself\u001b[39m\u001b[39m.\u001b[39mconvert_yunits(\u001b[39mself\u001b[39m\u001b[39m.\u001b[39m_y0)\n\u001b[1;32m    738\u001b[0m x1 \u001b[39m=\u001b[39m \u001b[39mself\u001b[39m\u001b[39m.\u001b[39mconvert_xunits(\u001b[39mself\u001b[39m\u001b[39m.\u001b[39m_x0 \u001b[39m+\u001b[39m \u001b[39mself\u001b[39m\u001b[39m.\u001b[39m_width)\n\u001b[0;32m--> 739\u001b[0m y1 \u001b[39m=\u001b[39m \u001b[39mself\u001b[39m\u001b[39m.\u001b[39mconvert_yunits(\u001b[39mself\u001b[39m\u001b[39m.\u001b[39m_y0 \u001b[39m+\u001b[39m \u001b[39mself\u001b[39m\u001b[39m.\u001b[39m_height)\n\u001b[1;32m    740\u001b[0m \u001b[39mreturn\u001b[39;00m x0, y0, x1, y1\n",
      "File \u001b[0;32m~/anaconda3/lib/python3.11/site-packages/matplotlib/artist.py:283\u001b[0m, in \u001b[0;36mArtist.convert_yunits\u001b[0;34m(self, y)\u001b[0m\n\u001b[1;32m    280\u001b[0m         \u001b[39mreturn\u001b[39;00m x\n\u001b[1;32m    281\u001b[0m     \u001b[39mreturn\u001b[39;00m ax\u001b[39m.\u001b[39mxaxis\u001b[39m.\u001b[39mconvert_units(x)\n\u001b[0;32m--> 283\u001b[0m \u001b[39mdef\u001b[39;00m \u001b[39mconvert_yunits\u001b[39m(\u001b[39mself\u001b[39m, y):\n\u001b[1;32m    284\u001b[0m \u001b[39m    \u001b[39m\u001b[39m\"\"\"\u001b[39;00m\n\u001b[1;32m    285\u001b[0m \u001b[39m    Convert *y* using the unit type of the yaxis.\u001b[39;00m\n\u001b[1;32m    286\u001b[0m \n\u001b[1;32m    287\u001b[0m \u001b[39m    If the artist is not contained in an Axes or if the yaxis does not\u001b[39;00m\n\u001b[1;32m    288\u001b[0m \u001b[39m    have units, *y* itself is returned.\u001b[39;00m\n\u001b[1;32m    289\u001b[0m \u001b[39m    \"\"\"\u001b[39;00m\n\u001b[1;32m    290\u001b[0m     ax \u001b[39m=\u001b[39m \u001b[39mgetattr\u001b[39m(\u001b[39mself\u001b[39m, \u001b[39m'\u001b[39m\u001b[39maxes\u001b[39m\u001b[39m'\u001b[39m, \u001b[39mNone\u001b[39;00m)\n",
      "\u001b[0;31mKeyboardInterrupt\u001b[0m: "
     ]
    }
   ],
   "source": [
    "plt.title(\"Coffee Consumption and Sleep by State\")\n",
    "plt.xlabel(\"State\")\n",
    "plt.ylabel(\"Sleep\")\n",
    "plt.xticks(rotation = 90)\n",
    "plt.bar(merged_df[\"State\"], merged_df[\"Sleep Time\"], color = \"yellow\", label = \"Sleep Time\")\n",
    "plt.bar(merged_df[\"State\"], merged_df[\"Cups of Coffee\"], color = 'purple', label = \"Cups of Coffee\")\n",
    "plt.legend()\n",
    "plt.show()"
   ]
  }
 ],
 "metadata": {
  "kernelspec": {
   "display_name": "base",
   "language": "python",
   "name": "python3"
  },
  "language_info": {
   "codemirror_mode": {
    "name": "ipython",
    "version": 3
   },
   "file_extension": ".py",
   "mimetype": "text/x-python",
   "name": "python",
   "nbconvert_exporter": "python",
   "pygments_lexer": "ipython3",
   "version": "3.11.5"
  }
 },
 "nbformat": 4,
 "nbformat_minor": 2
}
