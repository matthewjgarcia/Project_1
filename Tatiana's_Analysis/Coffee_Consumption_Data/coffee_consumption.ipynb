{
 "cells": [
  {
   "cell_type": "code",
   "execution_count": 1,
   "metadata": {},
   "outputs": [
    {
     "name": "stdout",
     "output_type": "stream",
     "text": [
      "             State  Cups of Coffee\n",
      "0         Michigan            2.52\n",
      "1         Delaware            2.44\n",
      "2    West Virginia            2.35\n",
      "3             Ohio            2.16\n",
      "4         Nebraska            2.13\n",
      "5         Arkansas            2.12\n",
      "6   South Carolina            2.12\n",
      "7           Kansas            2.07\n",
      "8            Maine            2.05\n",
      "9        Louisiana            2.03\n",
      "10            Utah            1.29\n",
      "11         Arizona            1.30\n",
      "12       Minnesota            1.32\n",
      "13      New Jersey            1.45\n",
      "14   Massachusetts            1.51\n",
      "15       Wisconsin            1.52\n",
      "16          Hawaii            1.52\n",
      "17         Georgia            1.54\n",
      "18        Maryland            1.57\n",
      "19     Mississippi            1.58\n"
     ]
    }
   ],
   "source": [
    "import pandas as pd\n",
    "\n",
    "# Data from the image\n",
    "data = {\n",
    "    'State': [\n",
    "        'Michigan', 'Delaware', 'West Virginia', 'Ohio', 'Nebraska', 'Arkansas',\n",
    "        'South Carolina', 'Kansas', 'Maine', 'Louisiana', 'Utah', 'Arizona',\n",
    "        'Minnesota', 'New Jersey', 'Massachusetts', 'Wisconsin', 'Hawaii',\n",
    "        'Georgia', 'Maryland', 'Mississippi'\n",
    "    ],\n",
    "    'Cups of Coffee': [\n",
    "        2.52, 2.44, 2.35, 2.16, 2.13, 2.12, 2.12, 2.07, 2.05, 2.03,\n",
    "        1.29, 1.30, 1.32, 1.45, 1.51, 1.52, 1.52, 1.54, 1.57, 1.58\n",
    "    ]\n",
    "}\n",
    "\n",
    "# Create the DataFrame\n",
    "coffee_consumption_df = pd.DataFrame(data)\n",
    "\n",
    "# Display the DataFrame\n",
    "print(coffee_consumption_df)"
   ]
  },
  {
   "cell_type": "code",
   "execution_count": null,
   "metadata": {},
   "outputs": [],
   "source": [
    "# Convert df to csv file for future use\n",
    "\n",
    "coffee_consumption_df.to_csv(\"Resources/coffee_consumption.csv\")\n"
   ]
  }
 ],
 "metadata": {
  "kernelspec": {
   "display_name": "uci_class",
   "language": "python",
   "name": "python3"
  },
  "language_info": {
   "codemirror_mode": {
    "name": "ipython",
    "version": 3
   },
   "file_extension": ".py",
   "mimetype": "text/x-python",
   "name": "python",
   "nbconvert_exporter": "python",
   "pygments_lexer": "ipython3",
   "version": "3.11.5"
  }
 },
 "nbformat": 4,
 "nbformat_minor": 2
}
